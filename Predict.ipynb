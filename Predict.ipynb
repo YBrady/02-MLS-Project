{
 "cells": [
  {
   "cell_type": "markdown",
   "metadata": {},
   "source": [
    "# Predict #\n",
    "To be re-inserted into main Jupyter Notebook after."
   ]
  },
  {
   "cell_type": "code",
   "execution_count": 1,
   "metadata": {},
   "outputs": [
    {
     "name": "stderr",
     "output_type": "stream",
     "text": [
      "Using TensorFlow backend.\n"
     ]
    }
   ],
   "source": [
    "import seaborn as sns\n",
    "import matplotlib.pyplot as plt\n",
    "%matplotlib inline\n",
    "\n",
    "# For neural networks.\n",
    "import keras as kr\n",
    "# For data frames.\n",
    "import pandas as pd\n",
    "# For numerical arrays.\n",
    "import numpy as np\n",
    "# For preprocessing data.\n",
    "import sklearn.preprocessing as pre\n",
    "# For splitting data sets.\n",
    "import sklearn.model_selection as mod\n",
    "# For whitening.\n",
    "import sklearn.decomposition as dec"
   ]
  },
  {
   "cell_type": "code",
   "execution_count": 2,
   "metadata": {},
   "outputs": [],
   "source": [
    "# Import sklearn for comparison too\n",
    "from sklearn.datasets import load_boston\n",
    "from sklearn.model_selection import train_test_split"
   ]
  },
  {
   "cell_type": "code",
   "execution_count": 3,
   "metadata": {},
   "outputs": [
    {
     "data": {
      "text/html": [
       "<div>\n",
       "<style scoped>\n",
       "    .dataframe tbody tr th:only-of-type {\n",
       "        vertical-align: middle;\n",
       "    }\n",
       "\n",
       "    .dataframe tbody tr th {\n",
       "        vertical-align: top;\n",
       "    }\n",
       "\n",
       "    .dataframe thead th {\n",
       "        text-align: right;\n",
       "    }\n",
       "</style>\n",
       "<table border=\"1\" class=\"dataframe\">\n",
       "  <thead>\n",
       "    <tr style=\"text-align: right;\">\n",
       "      <th></th>\n",
       "      <th>CRIM</th>\n",
       "      <th>ZN</th>\n",
       "      <th>INDUS</th>\n",
       "      <th>CHAS</th>\n",
       "      <th>NOX</th>\n",
       "      <th>RM</th>\n",
       "      <th>AGE</th>\n",
       "      <th>DIS</th>\n",
       "      <th>RAD</th>\n",
       "      <th>TAX</th>\n",
       "      <th>PTRATIO</th>\n",
       "      <th>B</th>\n",
       "      <th>LSTAT</th>\n",
       "      <th>MEDV</th>\n",
       "    </tr>\n",
       "  </thead>\n",
       "  <tbody>\n",
       "    <tr>\n",
       "      <th>0</th>\n",
       "      <td>0.00632</td>\n",
       "      <td>18.0</td>\n",
       "      <td>2.31</td>\n",
       "      <td>0.0</td>\n",
       "      <td>0.538</td>\n",
       "      <td>6.575</td>\n",
       "      <td>65.2</td>\n",
       "      <td>4.0900</td>\n",
       "      <td>1.0</td>\n",
       "      <td>296.0</td>\n",
       "      <td>15.3</td>\n",
       "      <td>396.90</td>\n",
       "      <td>4.98</td>\n",
       "      <td>24.0</td>\n",
       "    </tr>\n",
       "    <tr>\n",
       "      <th>1</th>\n",
       "      <td>0.02731</td>\n",
       "      <td>0.0</td>\n",
       "      <td>7.07</td>\n",
       "      <td>0.0</td>\n",
       "      <td>0.469</td>\n",
       "      <td>6.421</td>\n",
       "      <td>78.9</td>\n",
       "      <td>4.9671</td>\n",
       "      <td>2.0</td>\n",
       "      <td>242.0</td>\n",
       "      <td>17.8</td>\n",
       "      <td>396.90</td>\n",
       "      <td>9.14</td>\n",
       "      <td>21.6</td>\n",
       "    </tr>\n",
       "    <tr>\n",
       "      <th>2</th>\n",
       "      <td>0.02729</td>\n",
       "      <td>0.0</td>\n",
       "      <td>7.07</td>\n",
       "      <td>0.0</td>\n",
       "      <td>0.469</td>\n",
       "      <td>7.185</td>\n",
       "      <td>61.1</td>\n",
       "      <td>4.9671</td>\n",
       "      <td>2.0</td>\n",
       "      <td>242.0</td>\n",
       "      <td>17.8</td>\n",
       "      <td>392.83</td>\n",
       "      <td>4.03</td>\n",
       "      <td>34.7</td>\n",
       "    </tr>\n",
       "    <tr>\n",
       "      <th>3</th>\n",
       "      <td>0.03237</td>\n",
       "      <td>0.0</td>\n",
       "      <td>2.18</td>\n",
       "      <td>0.0</td>\n",
       "      <td>0.458</td>\n",
       "      <td>6.998</td>\n",
       "      <td>45.8</td>\n",
       "      <td>6.0622</td>\n",
       "      <td>3.0</td>\n",
       "      <td>222.0</td>\n",
       "      <td>18.7</td>\n",
       "      <td>394.63</td>\n",
       "      <td>2.94</td>\n",
       "      <td>33.4</td>\n",
       "    </tr>\n",
       "    <tr>\n",
       "      <th>4</th>\n",
       "      <td>0.06905</td>\n",
       "      <td>0.0</td>\n",
       "      <td>2.18</td>\n",
       "      <td>0.0</td>\n",
       "      <td>0.458</td>\n",
       "      <td>7.147</td>\n",
       "      <td>54.2</td>\n",
       "      <td>6.0622</td>\n",
       "      <td>3.0</td>\n",
       "      <td>222.0</td>\n",
       "      <td>18.7</td>\n",
       "      <td>396.90</td>\n",
       "      <td>5.33</td>\n",
       "      <td>36.2</td>\n",
       "    </tr>\n",
       "  </tbody>\n",
       "</table>\n",
       "</div>"
      ],
      "text/plain": [
       "      CRIM    ZN  INDUS  CHAS    NOX     RM   AGE     DIS  RAD    TAX  \\\n",
       "0  0.00632  18.0   2.31   0.0  0.538  6.575  65.2  4.0900  1.0  296.0   \n",
       "1  0.02731   0.0   7.07   0.0  0.469  6.421  78.9  4.9671  2.0  242.0   \n",
       "2  0.02729   0.0   7.07   0.0  0.469  7.185  61.1  4.9671  2.0  242.0   \n",
       "3  0.03237   0.0   2.18   0.0  0.458  6.998  45.8  6.0622  3.0  222.0   \n",
       "4  0.06905   0.0   2.18   0.0  0.458  7.147  54.2  6.0622  3.0  222.0   \n",
       "\n",
       "   PTRATIO       B  LSTAT  MEDV  \n",
       "0     15.3  396.90   4.98  24.0  \n",
       "1     17.8  396.90   9.14  21.6  \n",
       "2     17.8  392.83   4.03  34.7  \n",
       "3     18.7  394.63   2.94  33.4  \n",
       "4     18.7  396.90   5.33  36.2  "
      ]
     },
     "execution_count": 3,
     "metadata": {},
     "output_type": "execute_result"
    }
   ],
   "source": [
    "# Load the dataset into a dataframe\n",
    "data = pd.DataFrame(data = load_boston().data, columns= load_boston().feature_names)\n",
    "# Add the house price\n",
    "data[\"MEDV\"] = load_boston().target\n",
    "# Quick check that all is ok\n",
    "data.head()"
   ]
  },
  {
   "cell_type": "code",
   "execution_count": 4,
   "metadata": {},
   "outputs": [
    {
     "data": {
      "text/plain": [
       "<matplotlib.axes._subplots.AxesSubplot at 0x2067c061710>"
      ]
     },
     "execution_count": 4,
     "metadata": {},
     "output_type": "execute_result"
    },
    {
     "data": {
      "image/png": "[encoded data removed]",
      "text/plain": [
       "<Figure size 864x720 with 2 Axes>"
      ]
     },
     "metadata": {},
     "output_type": "display_data"
    }
   ],
   "source": [
    "sns.set(rc={'figure.figsize':(12,10)})\n",
    "correlation_matrix = data.corr().round(2)\n",
    "# annot = True to print the values inside the square\n",
    "sns.heatmap(data=correlation_matrix, annot=True)"
   ]
  },
  {
   "cell_type": "code",
   "execution_count": 5,
   "metadata": {},
   "outputs": [
    {
     "data": {
      "text/plain": [
       "CRIM      -0.39\n",
       "ZN         0.36\n",
       "INDUS     -0.48\n",
       "CHAS       0.18\n",
       "NOX       -0.43\n",
       "RM         0.70\n",
       "AGE       -0.38\n",
       "DIS        0.25\n",
       "RAD       -0.38\n",
       "TAX       -0.47\n",
       "PTRATIO   -0.51\n",
       "B          0.33\n",
       "LSTAT     -0.74\n",
       "MEDV       1.00\n",
       "Name: MEDV, dtype: float64"
      ]
     },
     "execution_count": 5,
     "metadata": {},
     "output_type": "execute_result"
    }
   ],
   "source": [
    "correlation_matrix[\"MEDV\"]"
   ]
  },
  {
   "cell_type": "code",
   "execution_count": 6,
   "metadata": {},
   "outputs": [
    {
     "data": {
      "text/plain": [
       "LSTAT      0.74\n",
       "RM         0.70\n",
       "PTRATIO    0.51\n",
       "INDUS      0.48\n",
       "TAX        0.47\n",
       "NOX        0.43\n",
       "CRIM       0.39\n",
       "RAD        0.38\n",
       "AGE        0.38\n",
       "ZN         0.36\n",
       "B          0.33\n",
       "DIS        0.25\n",
       "CHAS       0.18\n",
       "Name: MEDV, dtype: float64"
      ]
     },
     "execution_count": 6,
     "metadata": {},
     "output_type": "execute_result"
    }
   ],
   "source": [
    "cm = correlation_matrix.transform(func= lambda x: abs(x))[\"MEDV\"].sort_values(ascending=False)\n",
    "cm = cm.drop(\"MEDV\",axis=0)\n",
    "cm"
   ]
  },
  {
   "cell_type": "markdown",
   "metadata": {},
   "source": [
    "Because the TAX and RAD parameters are highly correlated (0.91) both should not be  used in training any model. As TAX has a higher correlation than RAD, the RAD feature will be dropped."
   ]
  },
  {
   "cell_type": "code",
   "execution_count": 7,
   "metadata": {
    "scrolled": true
   },
   "outputs": [
    {
     "data": {
      "text/plain": [
       "LSTAT      0.74\n",
       "RM         0.70\n",
       "PTRATIO    0.51\n",
       "INDUS      0.48\n",
       "TAX        0.47\n",
       "NOX        0.43\n",
       "CRIM       0.39\n",
       "AGE        0.38\n",
       "ZN         0.36\n",
       "B          0.33\n",
       "DIS        0.25\n",
       "CHAS       0.18\n",
       "Name: MEDV, dtype: float64"
      ]
     },
     "execution_count": 7,
     "metadata": {},
     "output_type": "execute_result"
    }
   ],
   "source": [
    "cm = cm.drop(\"RAD\",axis=0)\n",
    "cm"
   ]
  },
  {
   "cell_type": "code",
   "execution_count": 28,
   "metadata": {},
   "outputs": [],
   "source": [
    "# Putting all possible parameters in a list in order of correlation\n",
    "params = []\n",
    "for i in range(0, len(cm)):\n",
    "    params.append(cm.index[i])"
   ]
  },
  {
   "cell_type": "code",
   "execution_count": 37,
   "metadata": {},
   "outputs": [],
   "source": [
    "# Parameterise everything\n",
    "\n",
    "# No of variables to include in predictions\n",
    "noParams = 3 \n",
    "\n",
    "# All the activations\n",
    "acts = [\"relu\", \"tanh\", \"sigmoid\", \"exp\", \"linear\"]\n",
    "act = acts[0]\n",
    "\n",
    "# Optimisers\n",
    "opts= [\"sgd\", \"adam\", \"nadam\"]\n",
    "opt = opts[1]\n",
    "\n",
    "noEpoch= 100\n",
    "batchSize = 10"
   ]
  },
  {
   "cell_type": "code",
   "execution_count": 30,
   "metadata": {},
   "outputs": [],
   "source": [
    "# Split the dataset into what we are using\n",
    "x = data[params[:noParams]] # inputs\n",
    "y = data['MEDV'] # outputs"
   ]
  },
  {
   "cell_type": "code",
   "execution_count": 31,
   "metadata": {},
   "outputs": [],
   "source": [
    "# Split the dataset into training and testing\n",
    "x_train, x_test, y_train, y_test = mod.train_test_split(x, y, test_size=0.3)"
   ]
  },
  {
   "cell_type": "code",
   "execution_count": 32,
   "metadata": {},
   "outputs": [],
   "source": [
    "# Adding a scaler\n",
    "scaler = pre.StandardScaler()\n",
    "scaler.fit(x_train)\n",
    "x_train_scaled = scaler.transform(x_train)"
   ]
  },
  {
   "cell_type": "code",
   "execution_count": 36,
   "metadata": {},
   "outputs": [],
   "source": [
    "# Create our model\n",
    "m = kr.models.Sequential()\n",
    "\n",
    "m.add(kr.layers.Dense(20, input_dim=noParams, activation = act))\n",
    "m.add(kr.layers.Dense(1, activation=\"linear\"))\n",
    "\n",
    "m.compile(loss = \"mean_squared_error\", optimizer =opt)"
   ]
  },
  {
   "cell_type": "code",
   "execution_count": 39,
   "metadata": {},
   "outputs": [
    {
     "name": "stdout",
     "output_type": "stream",
     "text": [
      "Epoch 1/100\n",
      "354/354 [==============================] - 0s 481us/step - loss: 406.7161\n",
      "Epoch 2/100\n",
      "354/354 [==============================] - 0s 68us/step - loss: 286.0899\n",
      "Epoch 3/100\n",
      "354/354 [==============================] - 0s 76us/step - loss: 239.9000\n",
      "Epoch 4/100\n",
      "354/354 [==============================] - 0s 76us/step - loss: 201.8167\n",
      "Epoch 5/100\n",
      "354/354 [==============================] - 0s 87us/step - loss: 168.3561\n",
      "Epoch 6/100\n",
      "354/354 [==============================] - 0s 76us/step - loss: 143.5145\n",
      "Epoch 7/100\n",
      "354/354 [==============================] - 0s 73us/step - loss: 122.9312\n",
      "Epoch 8/100\n",
      "354/354 [==============================] - 0s 73us/step - loss: 106.4183\n",
      "Epoch 9/100\n",
      "354/354 [==============================] - 0s 79us/step - loss: 92.2636\n",
      "Epoch 10/100\n",
      "354/354 [==============================] - 0s 79us/step - loss: 80.8913\n",
      "Epoch 11/100\n",
      "354/354 [==============================] - 0s 73us/step - loss: 72.1558\n",
      "Epoch 12/100\n",
      "354/354 [==============================] - 0s 73us/step - loss: 65.2375\n",
      "Epoch 13/100\n",
      "354/354 [==============================] - 0s 76us/step - loss: 60.2354\n",
      "Epoch 14/100\n",
      "354/354 [==============================] - 0s 73us/step - loss: 56.3575\n",
      "Epoch 15/100\n",
      "354/354 [==============================] - 0s 73us/step - loss: 53.6040\n",
      "Epoch 16/100\n",
      "354/354 [==============================] - 0s 72us/step - loss: 51.4641\n",
      "Epoch 17/100\n",
      "354/354 [==============================] - 0s 73us/step - loss: 49.8833\n",
      "Epoch 18/100\n",
      "354/354 [==============================] - 0s 73us/step - loss: 48.7285\n",
      "Epoch 19/100\n",
      "354/354 [==============================] - 0s 79us/step - loss: 47.4353\n",
      "Epoch 20/100\n",
      "354/354 [==============================] - 0s 76us/step - loss: 46.3423\n",
      "Epoch 21/100\n",
      "354/354 [==============================] - 0s 73us/step - loss: 45.3790\n",
      "Epoch 22/100\n",
      "354/354 [==============================] - 0s 70us/step - loss: 44.2478\n",
      "Epoch 23/100\n",
      "354/354 [==============================] - 0s 73us/step - loss: 43.5167\n",
      "Epoch 24/100\n",
      "354/354 [==============================] - 0s 65us/step - loss: 42.5956\n",
      "Epoch 25/100\n",
      "354/354 [==============================] - 0s 70us/step - loss: 41.4283\n",
      "Epoch 26/100\n",
      "354/354 [==============================] - 0s 73us/step - loss: 40.5605\n",
      "Epoch 27/100\n",
      "354/354 [==============================] - 0s 82us/step - loss: 39.9482\n",
      "Epoch 28/100\n",
      "354/354 [==============================] - 0s 76us/step - loss: 39.2169\n",
      "Epoch 29/100\n",
      "354/354 [==============================] - 0s 73us/step - loss: 38.6723\n",
      "Epoch 30/100\n",
      "354/354 [==============================] - 0s 73us/step - loss: 37.8488\n",
      "Epoch 31/100\n",
      "354/354 [==============================] - 0s 79us/step - loss: 37.0253\n",
      "Epoch 32/100\n",
      "354/354 [==============================] - 0s 65us/step - loss: 36.4352\n",
      "Epoch 33/100\n",
      "354/354 [==============================] - 0s 70us/step - loss: 35.8975\n",
      "Epoch 34/100\n",
      "354/354 [==============================] - 0s 65us/step - loss: 34.8474\n",
      "Epoch 35/100\n",
      "354/354 [==============================] - 0s 73us/step - loss: 34.5058\n",
      "Epoch 36/100\n",
      "354/354 [==============================] - 0s 76us/step - loss: 33.5473\n",
      "Epoch 37/100\n",
      "354/354 [==============================] - 0s 79us/step - loss: 33.3546\n",
      "Epoch 38/100\n",
      "354/354 [==============================] - 0s 76us/step - loss: 32.7337\n",
      "Epoch 39/100\n",
      "354/354 [==============================] - 0s 76us/step - loss: 32.3401\n",
      "Epoch 40/100\n",
      "354/354 [==============================] - 0s 79us/step - loss: 31.7203\n",
      "Epoch 41/100\n",
      "354/354 [==============================] - 0s 76us/step - loss: 31.2703\n",
      "Epoch 42/100\n",
      "354/354 [==============================] - 0s 73us/step - loss: 31.1551\n",
      "Epoch 43/100\n",
      "354/354 [==============================] - 0s 79us/step - loss: 30.7401\n",
      "Epoch 44/100\n",
      "354/354 [==============================] - 0s 79us/step - loss: 30.4648\n",
      "Epoch 45/100\n",
      "354/354 [==============================] - 0s 73us/step - loss: 29.9558\n",
      "Epoch 46/100\n",
      "354/354 [==============================] - 0s 82us/step - loss: 29.6050\n",
      "Epoch 47/100\n",
      "354/354 [==============================] - 0s 82us/step - loss: 29.2646\n",
      "Epoch 48/100\n",
      "354/354 [==============================] - 0s 79us/step - loss: 29.4772\n",
      "Epoch 49/100\n",
      "354/354 [==============================] - 0s 62us/step - loss: 29.0090\n",
      "Epoch 50/100\n",
      "354/354 [==============================] - 0s 68us/step - loss: 29.0427\n",
      "Epoch 51/100\n",
      "354/354 [==============================] - 0s 73us/step - loss: 28.3759\n",
      "Epoch 52/100\n",
      "354/354 [==============================] - 0s 76us/step - loss: 28.0887\n",
      "Epoch 53/100\n",
      "354/354 [==============================] - 0s 74us/step - loss: 28.0125\n",
      "Epoch 54/100\n",
      "354/354 [==============================] - 0s 76us/step - loss: 27.6006\n",
      "Epoch 55/100\n",
      "354/354 [==============================] - 0s 71us/step - loss: 27.8595\n",
      "Epoch 56/100\n",
      "354/354 [==============================] - 0s 70us/step - loss: 28.1530\n",
      "Epoch 57/100\n",
      "354/354 [==============================] - 0s 72us/step - loss: 27.5353\n",
      "Epoch 58/100\n",
      "354/354 [==============================] - 0s 68us/step - loss: 28.0379\n",
      "Epoch 59/100\n",
      "354/354 [==============================] - 0s 73us/step - loss: 27.5290\n",
      "Epoch 60/100\n",
      "354/354 [==============================] - 0s 70us/step - loss: 27.3146\n",
      "Epoch 61/100\n",
      "354/354 [==============================] - 0s 68us/step - loss: 26.7681\n",
      "Epoch 62/100\n",
      "354/354 [==============================] - 0s 68us/step - loss: 26.5348\n",
      "Epoch 63/100\n",
      "354/354 [==============================] - 0s 68us/step - loss: 26.3548\n",
      "Epoch 64/100\n",
      "354/354 [==============================] - 0s 70us/step - loss: 26.3395\n",
      "Epoch 65/100\n",
      "354/354 [==============================] - 0s 73us/step - loss: 26.2765\n",
      "Epoch 66/100\n",
      "354/354 [==============================] - 0s 68us/step - loss: 26.5069\n",
      "Epoch 67/100\n",
      "354/354 [==============================] - 0s 65us/step - loss: 26.2427\n",
      "Epoch 68/100\n",
      "354/354 [==============================] - 0s 70us/step - loss: 25.7242\n",
      "Epoch 69/100\n",
      "354/354 [==============================] - 0s 70us/step - loss: 25.9440\n",
      "Epoch 70/100\n",
      "354/354 [==============================] - 0s 70us/step - loss: 25.9716\n",
      "Epoch 71/100\n",
      "354/354 [==============================] - 0s 70us/step - loss: 25.9225\n",
      "Epoch 72/100\n",
      "354/354 [==============================] - 0s 65us/step - loss: 25.6911\n",
      "Epoch 73/100\n",
      "354/354 [==============================] - 0s 71us/step - loss: 25.6202\n",
      "Epoch 74/100\n",
      "354/354 [==============================] - 0s 71us/step - loss: 25.3879\n",
      "Epoch 75/100\n",
      "354/354 [==============================] - 0s 65us/step - loss: 25.4231\n",
      "Epoch 76/100\n",
      "354/354 [==============================] - 0s 68us/step - loss: 25.4563\n",
      "Epoch 77/100\n",
      "354/354 [==============================] - 0s 71us/step - loss: 25.3809\n",
      "Epoch 78/100\n",
      "354/354 [==============================] - 0s 73us/step - loss: 25.4179\n",
      "Epoch 79/100\n",
      "354/354 [==============================] - 0s 65us/step - loss: 25.3653\n",
      "Epoch 80/100\n",
      "354/354 [==============================] - 0s 68us/step - loss: 25.2540\n",
      "Epoch 81/100\n",
      "354/354 [==============================] - 0s 62us/step - loss: 25.5218\n",
      "Epoch 82/100\n",
      "354/354 [==============================] - 0s 70us/step - loss: 25.5519\n",
      "Epoch 83/100\n",
      "354/354 [==============================] - 0s 68us/step - loss: 25.3204\n",
      "Epoch 84/100\n",
      "354/354 [==============================] - 0s 68us/step - loss: 25.1965\n",
      "Epoch 85/100\n",
      "354/354 [==============================] - 0s 64us/step - loss: 24.7930\n",
      "Epoch 86/100\n",
      "354/354 [==============================] - 0s 73us/step - loss: 25.0154\n",
      "Epoch 87/100\n",
      "354/354 [==============================] - 0s 85us/step - loss: 25.0708\n",
      "Epoch 88/100\n",
      "354/354 [==============================] - 0s 69us/step - loss: 24.8241\n",
      "Epoch 89/100\n",
      "354/354 [==============================] - 0s 62us/step - loss: 25.1135\n",
      "Epoch 90/100\n",
      "354/354 [==============================] - 0s 65us/step - loss: 25.0420\n",
      "Epoch 91/100\n",
      "354/354 [==============================] - 0s 68us/step - loss: 24.8261\n",
      "Epoch 92/100\n",
      "354/354 [==============================] - 0s 70us/step - loss: 24.8839\n",
      "Epoch 93/100\n",
      "354/354 [==============================] - 0s 70us/step - loss: 24.8981\n",
      "Epoch 94/100\n",
      "354/354 [==============================] - 0s 68us/step - loss: 24.7771\n",
      "Epoch 95/100\n",
      "354/354 [==============================] - 0s 59us/step - loss: 24.8499\n",
      "Epoch 96/100\n",
      "354/354 [==============================] - 0s 62us/step - loss: 24.8992\n",
      "Epoch 97/100\n"
     ]
    },
    {
     "name": "stdout",
     "output_type": "stream",
     "text": [
      "354/354 [==============================] - 0s 66us/step - loss: 24.7940\n",
      "Epoch 98/100\n",
      "354/354 [==============================] - 0s 68us/step - loss: 24.7846\n",
      "Epoch 99/100\n",
      "354/354 [==============================] - 0s 65us/step - loss: 25.1913\n",
      "Epoch 100/100\n",
      "354/354 [==============================] - 0s 68us/step - loss: 24.9729\n"
     ]
    },
    {
     "data": {
      "text/plain": [
       "<keras.callbacks.callbacks.History at 0x2067dc48cc0>"
      ]
     },
     "execution_count": 39,
     "metadata": {},
     "output_type": "execute_result"
    }
   ],
   "source": [
    "# Train the network\n",
    "m.fit(x_train, y_train, epochs=noEpoch, batch_size=batchSize)"
   ]
  },
  {
   "cell_type": "code",
   "execution_count": 40,
   "metadata": {},
   "outputs": [
    {
     "data": {
      "text/plain": [
       "array([[21., 26., 40., 21., 33., 12., 10., 38., 42., 23., 11., 40., 28.,\n",
       "        15., 17., 17., 22., 13., 17., 28., 17., 18., 17., 16., 16., 16.,\n",
       "        17., 21., 16., 31., 31., 26., 33., 24., 41., 20., 16., 18., 18.,\n",
       "        28., 14., 34., 39., 17., 19., 11., 31., 27., 29., 13., 21., 13.,\n",
       "        21., 26., 40., 21., 14., 19., 30., 12., 13., 29., 25., 18., 14.,\n",
       "        34., 24., 24., 28., 34., 30., 18., 16., 17., 18., 23., 12., 28.,\n",
       "        31., 27., 18., 37., 26., 20., 23., 15., 24., 24., 12., 31., 19.,\n",
       "        16., 32., 24., 17., 25., 15., 15., 25., 26., 13., 12., 25., 26.,\n",
       "        27., 16., 30., 28., 15., 28., 16., 15., 25., 21., 25., 24., 24.,\n",
       "        20., 14., 34., 19., 24., 30., 15.,  8., 13., 16., 16., 42., 15.,\n",
       "        30., 14., 20., 29., 20., 21., 19., 13., 23., 33., 17., 34., 26.,\n",
       "        22., 28., 17., 27., 37., 16., 21., 27., 18.]], dtype=float32)"
      ]
     },
     "execution_count": 40,
     "metadata": {},
     "output_type": "execute_result"
    }
   ],
   "source": [
    "# Check to see how we do on test\n",
    "m.predict(x_test).round().T"
   ]
  },
  {
   "cell_type": "code",
   "execution_count": 43,
   "metadata": {},
   "outputs": [
    {
     "data": {
      "text/plain": [
       "array([20. , 25. , 42.8, 18.7, 35.4, 12.7,  7.2, 42.3, 41.7, 22.2,  5. ,\n",
       "       50. , 26.2, 22.5,  9.6, 22. , 24. , 13.3, 18.7, 23.3, 19.1, 14.5,\n",
       "       20. , 15.3, 12.1, 12.5, 19.6, 19. , 13.1, 30.1, 29.8, 22. , 28.5,\n",
       "       50. , 50. , 19.4, 14.2, 24.4, 14.3, 26.6, 19.1, 31.7, 50. , 20.8,\n",
       "       21.7, 21.9, 32.2, 26.4, 27. , 19.5, 21.2,  6.3, 22.9, 24.8, 37.6,\n",
       "       19.2, 15.1, 23.2, 28.6,  8.5, 10.8, 23.7, 29.8, 20.7, 23.1, 31.5,\n",
       "       23.1, 22.4, 23.9, 34.9, 29.4, 13.4, 16.1, 18.7, 17.4, 20.6, 14.4,\n",
       "       24.7, 36.1, 29.1, 17.2, 46.7, 22. , 18.9, 18.5, 18.8, 23. , 23.8,\n",
       "       11.8, 24. , 23.3, 11.8, 37.2, 25. , 14.9, 25. ,  8.7, 19.4, 30.7,\n",
       "       22.3, 16.1, 20. , 23.9, 23.6, 26.5, 19.9, 26.6, 24.4, 20.1, 23.3,\n",
       "       19.9, 16.5, 23.8, 24.7, 15. , 24.5, 22.2, 23.8, 17.3, 32.9, 20.6,\n",
       "       23.9, 33. , 23.2, 13.8, 13.9, 18.3, 18.4, 50. , 17.8, 27.9, 12.7,\n",
       "       18.5, 25. , 10.4, 22.8, 17.7,  5. , 36.2, 32. , 20.6, 34.7, 22.8,\n",
       "       21.2, 23.1, 19.6, 22. , 44. , 17.5, 19.1, 24.3, 24.5],\n",
       "      dtype=float32)"
      ]
     },
     "execution_count": 43,
     "metadata": {},
     "output_type": "execute_result"
    }
   ],
   "source": [
    "# The actual test values\n",
    "y_test.values.astype(np.float32)"
   ]
  },
  {
   "cell_type": "code",
   "execution_count": 44,
   "metadata": {},
   "outputs": [
    {
     "name": "stdout",
     "output_type": "stream",
     "text": [
      "152/152 [==============================] - 0s 164us/step\n"
     ]
    },
    {
     "data": {
      "text/plain": [
       "22.16623276158383"
      ]
     },
     "execution_count": 44,
     "metadata": {},
     "output_type": "execute_result"
    }
   ],
   "source": [
    "# Calculate the loss function (Mean squared error in our case)\n",
    "m.evaluate(x_test, y_test)"
   ]
  },
  {
   "cell_type": "code",
   "execution_count": null,
   "metadata": {},
   "outputs": [],
   "source": []
  }
 ],
 "metadata": {
  "kernelspec": {
   "display_name": "Python 3",
   "language": "python",
   "name": "python3"
  },
  "language_info": {
   "codemirror_mode": {
    "name": "ipython",
    "version": 3
   },
   "file_extension": ".py",
   "mimetype": "text/x-python",
   "name": "python",
   "nbconvert_exporter": "python",
   "pygments_lexer": "ipython3",
   "version": "3.7.3"
  }
 },
 "nbformat": 4,
 "nbformat_minor": 2
}
