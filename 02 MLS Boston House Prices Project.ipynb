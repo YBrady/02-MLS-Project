{
 "cells": [
  {
   "cell_type": "markdown",
   "metadata": {},
   "source": [
    "<img align=\"left\" src=\"images/GMIT-logo.png\" alt=\"GMIT\" width=\"250\"/>                                                      <img align=\"right\" src=\"images/data-analytics.png\" alt=\"HDipDA\" width=\"300\"/>  \n",
    "# <center> Higher Diploma in Data Analytics - Boston House Prices Project </center> #\n",
    "  "
   ]
  },
  {
   "cell_type": "markdown",
   "metadata": {},
   "source": [
    "___________________________________________\n",
    "\n",
    "**Module Name**: Machine Learning & Statistics  \n",
    "**Module Number**: 52954\n",
    "**Student Name**: Yvonne Brady  \n",
    "**Student ID**: G00376355  \n",
    "___________________________________________  \n"
   ]
  },
  {
   "cell_type": "markdown",
   "metadata": {},
   "source": [
    "## (20%) Describe: ##\n",
    "Create a git repository and make it available online for the lecturer\n",
    "to clone. The repository should contain all your work for this assessment. Within\n",
    "the repository, create a jupyter [6] notebook that uses descriptive statistics and\n",
    "plots to describe the Boston House Prices [1] dataset. This part is worth 20% of\n",
    "your overall mark."
   ]
  },
  {
   "cell_type": "markdown",
   "metadata": {},
   "source": [
    "## Introduction ##\n",
    "This project concerns the Boston House Price Dataset. This dataset is taken from 1970 and records a number of parameters as follows:\n",
    "\n",
    "**_crim_** : per capita crime rate by town.\n",
    "\n",
    "**_zn_** : proportion of residential land zoned for lots over 25,000 sq.ft.\n",
    "\n",
    "**_indus_** : proportion of non-retail business acres per town.\n",
    "\n",
    "**_chas_** : Charles River dummy variable (= 1 if tract bounds river; 0 otherwise).\n",
    "\n",
    "**_nox_** : nitrogen oxides concentration (parts per 10 million).\n",
    "\n",
    "**_rm_** : average number of rooms per dwelling.\n",
    "\n",
    "**_age_** : proportion of owner-occupied units built prior to 1940.\n",
    "\n",
    "**_dis_** : weighted mean of distances to five Boston employment centres.\n",
    "\n",
    "**_rad_** : index of accessibility to radial highways.\n",
    "\n",
    "**_tax_** : full-value property-tax rate per $10,000.\n",
    "\n",
    "**_ptratio_** : pupil-teacher ratio by town.\n",
    "\n",
    "**_black_** : 1000(Bk - 0.63)^2 where Bk is the proportion of blacks by town.\n",
    "\n",
    "**_lstat_** : lower status of the population (percent).\n",
    "\n",
    "**_medv_** : median value of owner-occupied homes in $1000s."
   ]
  },
  {
   "cell_type": "code",
   "execution_count": 5,
   "metadata": {},
   "outputs": [],
   "source": [
    "# First things first - import the libraries\n",
    "import numpy as np\n",
    "import pandas as pd\n",
    "import matplotlib.pyplot as plt\n",
    "import seaborn as sns\n",
    "# import keras as ks - not available and warnings when tried to install - will wait for now\n",
    "%matplotlib inline # so we can see plots"
   ]
  },
  {
   "cell_type": "code",
   "execution_count": 6,
   "metadata": {},
   "outputs": [],
   "source": [
    "from sklearn.datasets import load_boston\n",
    "boston_dataset = load_boston()"
   ]
  },
  {
   "cell_type": "markdown",
   "metadata": {},
   "source": [
    "## (20%) Infer: ##\n",
    "To the above jupyter notebook, add a section where you use inferential\n",
    "statistics to analyse whether there is a significant difference in median house prices\n",
    "between houses that are along the Charles river and those that aren’t. You should\n",
    "explain and discuss your findings within the notebook. This part is also worth\n",
    "20%."
   ]
  },
  {
   "cell_type": "markdown",
   "metadata": {},
   "source": [
    "## (60%) Predict: ##\n",
    "Again using the same notebook, use keras [7] to create a neural network that can predict the median house price based on the other variables in the dataset. You are free to interpret this as you wish — for example, you may use all the other variables, or select a subset. This part is worth 60%."
   ]
  },
  {
   "cell_type": "markdown",
   "metadata": {},
   "source": [
    "## References ##\n",
    "[1] Boston Standard Metropolitan Statistical Area. Boston house prices dataset. https://www.kaggle.com/c/boston-housing.  \n",
    "[2] https://towardsdatascience.com/linear-regression-on-boston-housing-dataset-f409b7e4a155"
   ]
  },
  {
   "cell_type": "code",
   "execution_count": null,
   "metadata": {},
   "outputs": [],
   "source": []
  }
 ],
 "metadata": {
  "kernelspec": {
   "display_name": "Python 3",
   "language": "python",
   "name": "python3"
  },
  "language_info": {
   "codemirror_mode": {
    "name": "ipython",
    "version": 3
   },
   "file_extension": ".py",
   "mimetype": "text/x-python",
   "name": "python",
   "nbconvert_exporter": "python",
   "pygments_lexer": "ipython3",
   "version": "3.7.3"
  }
 },
 "nbformat": 4,
 "nbformat_minor": 2
}
